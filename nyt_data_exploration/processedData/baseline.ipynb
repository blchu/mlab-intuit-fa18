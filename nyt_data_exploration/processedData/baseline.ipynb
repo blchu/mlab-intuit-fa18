{
 "cells": [
  {
   "cell_type": "code",
   "execution_count": 2,
   "metadata": {
    "collapsed": false
   },
   "outputs": [],
   "source": [
    "import pickle\n",
    "from collections import Counter\n",
    "from nltk.corpus import stopwords\n",
    "import nltk\n",
    "\n",
    "\n",
    "\n",
    "# nltk.download('stopwords')\n",
    "\n",
    "eng_stopwords = set(stopwords.words('english'))"
   ]
  },
  {
   "cell_type": "code",
   "execution_count": 4,
   "metadata": {
    "collapsed": false
   },
   "outputs": [],
   "source": [
    "pickle_files = {'abstract_sentences': \"AbstractSentences2007.pkl\", \n",
    "                'abstracts': \"Abstracts2007.pkl\",\n",
    "               'full_text_sentences': \"FullTextSentences2007.pkl\", \n",
    "                'full_text': \"FullTexts2007.pkl\",\n",
    "                'trained_vectors': \"trainedVectors2007.pkl\"}\n",
    "\n",
    "p_abstract_sentences = open(\"FullTextSentences2007.pkl\",\"rb\")\n",
    "\n",
    "for varname, p in pickle_files.items():\n",
    "    pickled_opened_file = open(p, \"rb\")\n",
    "    exec(varname + \" = pickle.load(pickled_opened_file)\")\n",
    "    "
   ]
  },
  {
   "cell_type": "code",
   "execution_count": 17,
   "metadata": {
    "collapsed": true
   },
   "outputs": [],
   "source": [
    "def keep_word(word):\n",
    "    return word not in eng_stopwords and word != ',' and word != '.' and word != '\\n'"
   ]
  },
  {
   "cell_type": "code",
   "execution_count": 18,
   "metadata": {
    "collapsed": false
   },
   "outputs": [],
   "source": [
    "word_counts_map = []\n",
    "\n",
    "for document in full_text:\n",
    "    cnt = Counter()\n",
    "    for word in document:\n",
    "        word = word.lower()\n",
    "        if keep_word(word):\n",
    "            cnt[word] += 1\n",
    "    word_counts_map.append(cnt)"
   ]
  },
  {
   "cell_type": "code",
   "execution_count": 53,
   "metadata": {
    "collapsed": false
   },
   "outputs": [],
   "source": [
    "document_sentence_scores = []\n",
    "for document in full_text_sentences[0]:\n",
    "    sentence_scores = {}\n",
    "    document_word_counts = word_counts_map[i]\n",
    "    num_doc_words = sum(document_word_counts.values())\n",
    "    \n",
    "    for sentence_id, sentence in enumerate(document):\n",
    "        sentence_word_freq_sum = 0\n",
    "        num_words_in_sentence = 0\n",
    "        \n",
    "        for word in sentence:\n",
    "            word = word.lower()\n",
    "            if keep_word(word):\n",
    "                word_freq = document_word_counts[word] / num_doc_words\n",
    "                sentence_word_freq_sum += word_freq\n",
    "                num_words_in_sentence += 1\n",
    "        \n",
    "        sentence_score = sentence_word_freq_sum / num_words_in_sentence if num_words_in_sentence != 0 else 0\n",
    "        sentence_scores[sentence_id] = sentence_score\n",
    "        \n",
    "    document_sentence_scores.append(sentence_scores)"
   ]
  },
  {
   "cell_type": "code",
   "execution_count": 54,
   "metadata": {
    "collapsed": false
   },
   "outputs": [],
   "source": [
    "def get_top_sentences(doc_id, N=5):\n",
    "    sentence_scores_map = document_sentence_scores[doc_id]\n",
    "    \n",
    "    sentence_scores = [(idx,score) for idx, score in sentence_scores_map.items()]\n",
    "    sentence_scores.sort(key = lambda x: x[1], reverse=True)\n",
    "    \n",
    "    sentence_scores = [(full_text_sentences[doc_id][idx], score) for idx, score in sentence_scores]\n",
    "    \n",
    "    return sentence_scores[:N]\n",
    "    \n",
    "    "
   ]
  },
  {
   "cell_type": "code",
   "execution_count": 55,
   "metadata": {
    "collapsed": false
   },
   "outputs": [
    {
     "data": {
      "text/plain": [
       "[(['When',\n",
       "   'the',\n",
       "   'Walt',\n",
       "   'Disney',\n",
       "   \"Company's\",\n",
       "   'chief',\n",
       "   'executive',\n",
       "   ',',\n",
       "   'Robert',\n",
       "   'A',\n",
       "   '.'],\n",
       "  0.0),\n",
       " (['Iger',\n",
       "   ',',\n",
       "   'takes',\n",
       "   'the',\n",
       "   'stage',\n",
       "   'at',\n",
       "   'the',\n",
       "   'Consumer',\n",
       "   'Electronics',\n",
       "   'Show',\n",
       "   'in',\n",
       "   'Las',\n",
       "   'Vegas',\n",
       "   'on',\n",
       "   'Jan',\n",
       "   '.'],\n",
       "  0.0),\n",
       " (['8',\n",
       "   ',',\n",
       "   'he',\n",
       "   'is',\n",
       "   'expected',\n",
       "   'to',\n",
       "   'introduce',\n",
       "   'the',\n",
       "   'new',\n",
       "   'Web',\n",
       "   'site',\n",
       "   'that',\n",
       "   'has',\n",
       "   'taken',\n",
       "   'more',\n",
       "   'than',\n",
       "   'a',\n",
       "   'year',\n",
       "   'to',\n",
       "   'redesign',\n",
       "   '.'],\n",
       "  0.0),\n",
       " (['For',\n",
       "   'years',\n",
       "   \"Disney's\",\n",
       "   'Web',\n",
       "   'sites',\n",
       "   ',',\n",
       "   'which',\n",
       "   'include',\n",
       "   'the',\n",
       "   'popular',\n",
       "   'ESPN.com',\n",
       "   ',',\n",
       "   'and',\n",
       "   'Disney.com',\n",
       "   ',',\n",
       "   'have',\n",
       "   'been',\n",
       "   'among',\n",
       "   'the',\n",
       "   \"Internet's\",\n",
       "   'most',\n",
       "   'visited',\n",
       "   '.'],\n",
       "  0.0),\n",
       " (['In', 'November', ',', 'the', 'company', 'overall', 'ranked', 'No', '.'],\n",
       "  0.0)]"
      ]
     },
     "execution_count": 55,
     "metadata": {},
     "output_type": "execute_result"
    }
   ],
   "source": [
    "get_top_sentences(10)"
   ]
  },
  {
   "cell_type": "code",
   "execution_count": null,
   "metadata": {
    "collapsed": true
   },
   "outputs": [],
   "source": []
  }
 ],
 "metadata": {
  "kernelspec": {
   "display_name": "Python 3",
   "language": "python",
   "name": "python3"
  },
  "language_info": {
   "codemirror_mode": {
    "name": "ipython",
    "version": 3
   },
   "file_extension": ".py",
   "mimetype": "text/x-python",
   "name": "python",
   "nbconvert_exporter": "python",
   "pygments_lexer": "ipython3",
   "version": "3.6.0"
  }
 },
 "nbformat": 4,
 "nbformat_minor": 0
}
