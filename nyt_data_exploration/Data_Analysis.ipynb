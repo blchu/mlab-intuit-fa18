{
 "cells": [
  {
   "cell_type": "code",
   "execution_count": 143,
   "metadata": {},
   "outputs": [
    {
     "name": "stdout",
     "output_type": "stream",
     "text": [
      "0.103112382554415\n"
     ]
    },
    {
     "data": {
      "text/plain": [
       "18108"
      ]
     },
     "execution_count": 143,
     "metadata": {},
     "output_type": "execute_result"
    }
   ],
   "source": [
    "import os\n",
    "import xml.etree.ElementTree as ET\n",
    "import matplotlib.pyplot as pl\n",
    "import numpy as np\n",
    "from nltk.tokenize import RegexpTokenizer\n",
    "\n",
    "\n",
    "filePath = \"./2007\"\n",
    "\n",
    "# returns a set of all possible tags within a tree\n",
    "def dive(root):\n",
    "    n = set()\n",
    "    for child in root:\n",
    "        n.add(child.tag)\n",
    "        x = dive(child)\n",
    "        n = n.union(x)\n",
    "    return n\n",
    "\n",
    "\n",
    "# Tries to find the tag t anywhere with in the root tree provided\n",
    "def findTag(root, t):\n",
    "    if (root.tag == t):\n",
    "        return root\n",
    "    for child in root:\n",
    "        ft = findTag(child, t)\n",
    "        if (ft): return ft\n",
    "    return False\n",
    "\n",
    "\n",
    "# Tries to find the class c anywhere in the root tree provided\n",
    "def findClass(root, c):\n",
    "    if ('class' in root.attrib):\n",
    "        if (root.attrib['class'] == c): return root\n",
    "    for child in root:\n",
    "        fc = findClass(child, c)\n",
    "        if (fc): return fc\n",
    "    return False\n",
    "\n",
    "#Finds all the text associated with a given root and outputs a giant string\n",
    "def text(root):\n",
    "\n",
    "    txt = \"\"\n",
    "\n",
    "    if (root.text):\n",
    "        txt = root.text.strip()\n",
    "        if (txt): return txt\n",
    "        for child in root: txt += text(child)\n",
    "    return txt\n",
    "\n",
    "\n",
    "abstract_to_summary_ratios = []\n",
    "abstract_token_lengths = []\n",
    "fullText_token_lengths = []\n",
    "tokenizer = RegexpTokenizer(r'\\w+')\n",
    "\n",
    "filePath = \"./2007\"\n",
    "\n",
    "# Goes through all the 2007 Data\n",
    "for month in os.listdir(filePath):\n",
    "    filePath = \"./2007/\" + month\n",
    "    for day in os.listdir(filePath):\n",
    "        filePath = \"./2007/\" + month + \"/\" + day\n",
    "        for filename in os.listdir(filePath):\n",
    "\n",
    "            # Generates a tree form the XML file\n",
    "            doc = ET.parse(filePath + \"/\" + filename)\n",
    "            root = doc.getroot()\n",
    "\n",
    "            # Gets the path for the abstract and articles\n",
    "            abstract = findTag(root, 'abstract')\n",
    "            fullText = findClass(root, 'full_text')\n",
    "\n",
    "            if (abstract and fullText):\n",
    "\n",
    "                # If the abstracts and articles are non empty paths then we grab the text in them\n",
    "                abstract_string = text(abstract)\n",
    "                fullText_string = text(fullText)\n",
    "\n",
    "                if (abstract_string and fullText_string):\n",
    "\n",
    "                    # Tokenize the text and filter out punctuation\n",
    "                    abstract_tokens = tokenizer.tokenize(abstract_string)\n",
    "                    fullText_tokens = tokenizer.tokenize(fullText_string)\n",
    "\n",
    "                    # Get the ratio of the size of abstracts vs. articles\n",
    "                    ratio = len(abstract_tokens) / len(fullText_tokens)\n",
    "\n",
    "                    #Current criteria to keep the data point\n",
    "                    if((ratio <= 0.5) and (len(abstract_tokens) >= 5)):\n",
    "\n",
    "                        # Feel free to process the individual data points however you want, you can store them in a\n",
    "                        # txt file or make a table to store all the actual data. Do whats best for the model\n",
    "\n",
    "\n",
    "                        # Filler code I used to get some statistics\n",
    "\n",
    "                        abstract_to_summary_ratios.append(ratio)\n",
    "                        fullText_token_lengths.append(len(fullText_tokens))\n",
    "                        abstract_token_lengths.append(len(abstract_tokens))\n",
    "\n",
    "\n",
    "\n",
    "\n",
    "\n",
    "print(sum(abstract_to_summary_ratios) / len(abstract_to_summary_ratios))\n",
    "\n",
    "\n",
    "a = np.array(abstract_to_summary_ratios)\n",
    "c = np.array(abstract_token_lengths)\n",
    "d = np.array(fullText_token_lengths)\n",
    "a.size"
   ]
  },
  {
   "cell_type": "code",
   "execution_count": 139,
   "metadata": {},
   "outputs": [
    {
     "data": {
      "text/plain": [
       "18108"
      ]
     },
     "execution_count": 139,
     "metadata": {},
     "output_type": "execute_result"
    }
   ],
   "source": [
    "len(fullText_token_lengths)"
   ]
  },
  {
   "cell_type": "code",
   "execution_count": 141,
   "metadata": {},
   "outputs": [
    {
     "data": {
      "image/png": "[encoded data removed]",
      "text/plain": [
       "<Figure size 432x288 with 1 Axes>"
      ]
     },
     "metadata": {},
     "output_type": "display_data"
    },
    {
     "name": "stdout",
     "output_type": "stream",
     "text": [
      "Size is 18108\n",
      "Averge is 0.10311238255441567\n",
      "Min is 0.001796541657309679\n",
      "Max is 0.5\n"
     ]
    }
   ],
   "source": [
    "b = a\n",
    "fig = pl.hist(b, density = True)\n",
    "pl.show()\n",
    "print(\"Size is \" + str(len(b)))\n",
    "print(\"Averge is \" + str(np.mean(b)))\n",
    "print(\"Min is \" + str(np.amin(b)))\n",
    "print(\"Max is \" + str(np.amax(b)))\n"
   ]
  },
  {
   "cell_type": "code",
   "execution_count": 79,
   "metadata": {},
   "outputs": [
    {
     "data": {
      "text/plain": [
       "['Eighty', 'seven', 'miles', 'to', 'go', 'yet', 'Your', 's', 'Onward']"
      ]
     },
     "execution_count": 79,
     "metadata": {},
     "output_type": "execute_result"
    }
   ],
   "source": [
    "\n",
    "pl.title('Abstract to Article length ratio')\n",
    "pl.xlabel(\"value\")\n",
    "pl.ylabel(\"Frequency\")\n",
    "pl.savefig(\"daslkfg.png\")\n"
   ]
  },
  {
   "cell_type": "code",
   "execution_count": null,
   "metadata": {},
   "outputs": [],
   "source": []
  }
 ],
 "metadata": {
  "kernelspec": {
   "display_name": "Python 3",
   "language": "python",
   "name": "python3"
  },
  "language_info": {
   "codemirror_mode": {
    "name": "ipython",
    "version": 3
   },
   "file_extension": ".py",
   "mimetype": "text/x-python",
   "name": "python",
   "nbconvert_exporter": "python",
   "pygments_lexer": "ipython3",
   "version": "3.6.6"
  }
 },
 "nbformat": 4,
 "nbformat_minor": 2
}
