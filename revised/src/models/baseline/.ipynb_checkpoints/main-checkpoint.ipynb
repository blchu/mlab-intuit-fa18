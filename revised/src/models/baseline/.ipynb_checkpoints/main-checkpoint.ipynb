{
 "cells": [
  {
   "cell_type": "code",
   "execution_count": 1,
   "metadata": {
    "collapsed": true
   },
   "outputs": [],
   "source": [
    "import pickle\n",
    "from collections import Counter\n",
    "from nltk.corpus import stopwords\n",
    "import nltk\n",
    "import numpy as np\n",
    "from statistics import mean\n",
    "import scipy.stats\n",
    "import nltk\n",
    "from nltk.tag import pos_tag \n",
    "\n",
    "eng_stopwords = set(stopwords.words('english'))"
   ]
  },
  {
   "cell_type": "code",
   "execution_count": 3,
   "metadata": {
    "collapsed": false
   },
   "outputs": [],
   "source": [
    "pickle_files = {'abstract_sentences': \"AbstractSentences2007.pkl\", \n",
    "                'abstracts': \"Abstracts2007.pkl\",\n",
    "               'full_text_sentences': \"FullTextSentences2007.pkl\", \n",
    "                'full_text': \"FullTexts2007.pkl\",\n",
    "#                 'trained_vectors': \"trainedVectors2007.pkl\",\n",
    "                'labels': \"labels.pkl\"}\n",
    "\n",
    "\n",
    "\n",
    "p_abstract_sentences = open(\"FullTextSentences2007.pkl\",\"rb\")\n",
    "\n",
    "for varname, p in pickle_files.items():\n",
    "    pickled_opened_file = open(p, \"rb\")\n",
    "    exec(varname + \" = pickle.load(pickled_opened_file)\")\n",
    "    \n",
    "relevant_file_numbers = [x[0] for x in labels]\n",
    "full_text_sentences = np.array(full_text_sentences)[relevant_file_numbers]\n",
    "    "
   ]
  },
  {
   "cell_type": "code",
   "execution_count": 3,
   "metadata": {
    "collapsed": true
   },
   "outputs": [],
   "source": [
    "def keep_word(word):\n",
    "    return word not in eng_stopwords and word != ',' and word != '.' and word != '\\n'"
   ]
  },
  {
   "cell_type": "code",
   "execution_count": 4,
   "metadata": {
    "collapsed": true
   },
   "outputs": [],
   "source": [
    "word_counts_map = []\n",
    "\n",
    "for document in full_text_sentences:\n",
    "    cnt = Counter()\n",
    "    for sentence in document:\n",
    "        for word in sentence:\n",
    "            word = word.lower()\n",
    "            if keep_word(word):\n",
    "                cnt[word] += 1\n",
    "        word_counts_map.append(cnt)"
   ]
  },
  {
   "cell_type": "code",
   "execution_count": 5,
   "metadata": {
    "collapsed": true
   },
   "outputs": [],
   "source": [
    "document_sentence_scores = []\n",
    "for i, document in enumerate(full_text_sentences):\n",
    "    sentence_scores = {}\n",
    "    document_word_counts = word_counts_map[i]\n",
    "    num_doc_words = sum(document_word_counts.values())\n",
    "    \n",
    "    for sentence_id, sentence in enumerate(document):\n",
    "        sentence_word_freq_sum = 0\n",
    "        num_words_in_sentence = 0\n",
    "        \n",
    "        for word in sentence:\n",
    "            word = word.lower()\n",
    "            if keep_word(word):\n",
    "                word_freq = document_word_counts[word] / num_doc_words\n",
    "                sentence_word_freq_sum += word_freq\n",
    "                num_words_in_sentence += 1\n",
    "        \n",
    "        sentence_score = sentence_word_freq_sum / num_words_in_sentence if num_words_in_sentence != 0 else 0\n",
    "        sentence_scores[sentence_id] = sentence_score\n",
    "        \n",
    "    document_sentence_scores.append(sentence_scores)"
   ]
  },
  {
   "cell_type": "markdown",
   "metadata": {},
   "source": [
    "# Experimenting"
   ]
  },
  {
   "cell_type": "code",
   "execution_count": 6,
   "metadata": {
    "collapsed": true
   },
   "outputs": [],
   "source": [
    "def sentence_position(document_num, sentence_num):\n",
    "    return sentence_num / len(full_text_sentences[document_num])"
   ]
  },
  {
   "cell_type": "code",
   "execution_count": 7,
   "metadata": {
    "collapsed": true
   },
   "outputs": [],
   "source": [
    "\n",
    "def sentence_length(document_num, sentence_num, mean_sent_length=None, std_dev=5):\n",
    "#     if not mean_sent_length:\n",
    "#         mean_sent_length = mean([len(item) for item in full_text_sentences[document_num]])\n",
    "    sentence = full_text_sentences[document_num][sentence_num]\n",
    "        \n",
    "#     print(scipy.stats.norm(mean_sent_length, std_dev).pdf(len(sentence)))\n",
    "    return len(sentence)"
   ]
  },
  {
   "cell_type": "code",
   "execution_count": 8,
   "metadata": {
    "collapsed": true
   },
   "outputs": [],
   "source": [
    "\n",
    "def proper_noun(document_num, sentence_num):\n",
    "    sentence = full_text_sentences[document_num][sentence_num]\n",
    "    tagged_sent = pos_tag(sentence)\n",
    "    propernouns = [word for word, pos in tagged_sent if pos == 'NNP']\n",
    "    \n",
    "    return len(propernouns)"
   ]
  },
  {
   "cell_type": "code",
   "execution_count": 10,
   "metadata": {
    "collapsed": true
   },
   "outputs": [],
   "source": [
    "def sentence_freq_score(document_num, sentence_num):\n",
    "    return 1000 * document_sentence_scores[document_num][sentence_num]"
   ]
  },
  {
   "cell_type": "code",
   "execution_count": 11,
   "metadata": {
    "collapsed": true
   },
   "outputs": [],
   "source": [
    "features_functions = [sentence_position, sentence_length, proper_noun, sentence_freq_score]"
   ]
  },
  {
   "cell_type": "markdown",
   "metadata": {
    "collapsed": true
   },
   "source": [
    "# Neural Net"
   ]
  },
  {
   "cell_type": "code",
   "execution_count": 12,
   "metadata": {
    "collapsed": false
   },
   "outputs": [
    {
     "name": "stderr",
     "output_type": "stream",
     "text": [
      "/anaconda/lib/python3.6/site-packages/h5py/__init__.py:34: FutureWarning: Conversion of the second argument of issubdtype from `float` to `np.floating` is deprecated. In future, it will be treated as `np.float64 == np.dtype(float).type`.\n",
      "  from ._conv import register_converters as _register_converters\n"
     ]
    },
    {
     "name": "stdout",
     "output_type": "stream",
     "text": [
      "1.11.0\n"
     ]
    }
   ],
   "source": [
    "# TensorFlow and tf.keras\n",
    "import tensorflow as tf\n",
    "from tensorflow import keras\n",
    "\n",
    "# Helper libraries\n",
    "import numpy as np\n",
    "import matplotlib.pyplot as plt\n",
    "\n",
    "print(tf.__version__)"
   ]
  },
  {
   "cell_type": "code",
   "execution_count": 13,
   "metadata": {
    "collapsed": true
   },
   "outputs": [],
   "source": [
    "# # Create feature matrix\n",
    "# X = np.zeros((1, 4))\n",
    "# for i, document in enumerate(full_text_sentences):\n",
    "#     print(i)\n",
    "#     for j, sentence in enumerate(document):\n",
    "#         X = np.vstack([X, [function(i, j) for function in features_functions]])\n",
    "# print(X)"
   ]
  },
  {
   "cell_type": "code",
   "execution_count": 14,
   "metadata": {
    "collapsed": true
   },
   "outputs": [],
   "source": [
    "# print(sum([len(document) for document in full_text_sentences]))"
   ]
  },
  {
   "cell_type": "code",
   "execution_count": 15,
   "metadata": {
    "collapsed": true
   },
   "outputs": [],
   "source": [
    "# X[1:]"
   ]
  },
  {
   "cell_type": "code",
   "execution_count": 16,
   "metadata": {
    "collapsed": true
   },
   "outputs": [],
   "source": [
    "# import pickle\n",
    "\n",
    "# # Saving the objects:\n",
    "# with open('feature_matrix.pkl', 'wb') as f:  # Python 3: open(..., 'wb')\n",
    "#     pickle.dump([X], f)"
   ]
  },
  {
   "cell_type": "markdown",
   "metadata": {},
   "source": [
    "# Labels"
   ]
  },
  {
   "cell_type": "code",
   "execution_count": 17,
   "metadata": {
    "collapsed": true
   },
   "outputs": [],
   "source": [
    "# labels = pickle.load(open('labels.pkl', 'rb'))\n",
    "# labels[0]"
   ]
  },
  {
   "cell_type": "code",
   "execution_count": 18,
   "metadata": {
    "collapsed": true
   },
   "outputs": [],
   "source": [
    "file_numbers = [x[0] for x in labels]"
   ]
  },
  {
   "cell_type": "code",
   "execution_count": 19,
   "metadata": {
    "collapsed": true
   },
   "outputs": [],
   "source": [
    "# Create feature matrix\n",
    "test = True\n",
    "def create_ft_matrix(test=True, number=10):\n",
    "    X = np.zeros((1, 4))\n",
    "    \n",
    "    end = number if test else len(file_numbers)\n",
    "    for i in file_numbers[:end]:\n",
    "        document = full_text_sentences[i]\n",
    "        for j, sentence in enumerate(document):\n",
    "            X = np.vstack([X, [function(i, j) for function in features_functions]])\n",
    "    X = X[1:]\n",
    "    return X\n",
    "\n",
    "def get_corr_labels(test=True, number=10):\n",
    "    end = number if test else len(labels)\n",
    "    corr_labels = [x[1] for x in labels[:end]]\n",
    "    return corr_labels"
   ]
  },
  {
   "cell_type": "code",
   "execution_count": 20,
   "metadata": {
    "collapsed": true
   },
   "outputs": [],
   "source": [
    "X = create_ft_matrix()\n",
    "corr_labels = get_corr_labels()"
   ]
  },
  {
   "cell_type": "code",
   "execution_count": 21,
   "metadata": {
    "collapsed": false
   },
   "outputs": [
    {
     "name": "stdout",
     "output_type": "stream",
     "text": [
      "(307, 4)\n",
      "307\n"
     ]
    }
   ],
   "source": [
    "flat_list = []\n",
    "for sublist in corr_labels:\n",
    "    for item in sublist:\n",
    "        flat_list.append(item)\n",
    "\n",
    "print(X.shape)\n",
    "print(len(flat_list))\n",
    "\n",
    "import sklearn\n",
    "from sklearn.linear_model import LogisticRegression"
   ]
  },
  {
   "cell_type": "code",
   "execution_count": 22,
   "metadata": {
    "collapsed": false
   },
   "outputs": [
    {
     "name": "stdout",
     "output_type": "stream",
     "text": [
      "Accuracy:  0.8300970873786407\n"
     ]
    }
   ],
   "source": [
    "from sklearn.model_selection import train_test_split\n",
    "from sklearn.metrics import accuracy_score\n",
    "\n",
    "y = flat_list\n",
    "# X_train, X_test, y_train, y_test = train_test_split(X, y, test_size=0.4, random_state=42)\n",
    "\n",
    "X_train, X_test, y_train, y_test = X[0:100], X[101:], y[0:100], y[101:]\n",
    "\n",
    "threshold = 0.5\n",
    "model = LogisticRegression().fit(X_train, y_train)\n",
    "probabilities = model.predict_proba(X_test)\n",
    "predictions = [1 if x[1] > 0.15 else 0 for x in probabilities]\n",
    "print(\"Accuracy: \", accuracy_score(y_test, predictions))"
   ]
  },
  {
   "cell_type": "code",
   "execution_count": 23,
   "metadata": {
    "collapsed": false
   },
   "outputs": [
    {
     "name": "stdout",
     "output_type": "stream",
     "text": [
      "(100, 4) (206, 4) 100 206\n"
     ]
    }
   ],
   "source": [
    "print(X_train.shape, X_test.shape, len(y_train), len(y_test))"
   ]
  },
  {
   "cell_type": "code",
   "execution_count": 24,
   "metadata": {
    "collapsed": true
   },
   "outputs": [],
   "source": [
    "from nltk.translate.bleu_score import sentence_bleu\n",
    "from pythonrouge.pythonrouge import Pythonrouge\n",
    "\n",
    "def bleu(lst, target_sentence, weights=(0.25, 0.25, 0.25, 0.25)):\n",
    "\tsent_scores_map = dict()\n",
    "\tmax_score = None\n",
    "\tbest_sentence = None\n",
    "\tbest_idx = None\n",
    "\t\n",
    "\tfor i, sentence in enumerate(lst):\n",
    "\t    sentence = [sentence]\n",
    "\t    score = sentence_bleu(sentence, target_sentence, weights)\n",
    "\t    sent_scores_map[i] = score\n",
    "\t    if max_score is None or score > max_score:\n",
    "\t        max_score = score\n",
    "\t        best_sentence = sentence\n",
    "\t        best_idx = i\n",
    "\treturn best_idx, sent_scores_map\n",
    "\n",
    "def untokenize(lst):\n",
    "\tuntokenized = []\n",
    "\tfor item in lst:\n",
    "\t\tsentence = ' '.join(item)\n",
    "\t\tuntokenized.append([sentence])\n",
    "\treturn untokenized\n",
    "\n",
    "# def f1_score(bleu_score, rouge_score):\n",
    "# \treturn float((2*(bleu_score*rouge_score))) / float((bleu_score + rouge_score))"
   ]
  },
  {
   "cell_type": "code",
   "execution_count": 25,
   "metadata": {
    "collapsed": false
   },
   "outputs": [
    {
     "name": "stdout",
     "output_type": "stream",
     "text": [
      "(0, {0: 1.0, 1: 0.7071067811865475})\n",
      "\n"
     ]
    },
    {
     "name": "stderr",
     "output_type": "stream",
     "text": [
      "/anaconda/lib/python3.6/site-packages/nltk/translate/bleu_score.py:490: UserWarning: \n",
      "Corpus/Sentence contains 0 counts of 3-gram overlaps.\n",
      "BLEU scores might be undesirable; use SmoothingFunction().\n",
      "  warnings.warn(_msg)\n"
     ]
    }
   ],
   "source": [
    "reference = [['this', 'is', 'a', 'test'], ['this', 'is', 'test']]\n",
    "candidate = ['this', 'is', 'a', 'test']\n",
    "\n",
    "print(bleu(reference, candidate))\n",
    "print()"
   ]
  },
  {
   "cell_type": "code",
   "execution_count": 26,
   "metadata": {
    "collapsed": false
   },
   "outputs": [
    {
     "name": "stdout",
     "output_type": "stream",
     "text": [
      "32\n",
      "206\n"
     ]
    }
   ],
   "source": [
    "print(len([p for p in predictions if p == 1]))\n",
    "\n",
    "print(len(predictions))\n",
    "# print(y_test)"
   ]
  },
  {
   "cell_type": "code",
   "execution_count": 27,
   "metadata": {
    "collapsed": true
   },
   "outputs": [],
   "source": [
    "# summaries = []\n",
    "from functools import reduce\n",
    "def document_indices(doc_id):\n",
    "    prev_docs = full_text_sentences[0:doc_id]\n",
    "    prev_docs_length = sum([len(x) for x in prev_docs])\n",
    "    doc = full_text_sentences[doc_id]\n",
    "    doc_len = len(doc)\n",
    "    \n",
    "    start = prev_docs_length\n",
    "    end = start + doc_len\n",
    "    \n",
    "    return start, end\n",
    "\n",
    "def flatten(lst):\n",
    "    flattened_list = []\n",
    "    for sublist in lst:\n",
    "        for item in sublist:\n",
    "            flattened_list.append(item)\n",
    "    return flattened_list\n",
    "\n",
    "def average(scores):\n",
    "    return sum(scores) / len(scores)\n",
    "\n",
    "def get_average_bleu_scores():\n",
    "    bleu_logistic_scores = []\n",
    "    bleu_label_scores = []\n",
    "    for k, i in enumerate(file_numbers[:10]):\n",
    "        flattened_abstract_sentences = flatten(abstract_sentences[i])\n",
    "        reference = [flattened_abstract_sentences]\n",
    "        start, end = document_indices(i)\n",
    "        candidate_logistic = flatten([full_text_sentences[i][index] for index in predictions[start:end]])\n",
    "        candidate_labels = flatten([full_text_sentences[i][index] for index in labels[k][1]])\n",
    "        best_idx, sent_map = bleu(reference, candidate_logistic)\n",
    "        bleu_logistic_scores.append(sent_map[0])\n",
    "        best_idx, sent_map = bleu(reference, candidate_labels)\n",
    "        bleu_label_scores.append(sent_map[0])\n",
    "\n",
    "    return average(bleu_logistic_scores), average(bleu_label_scores)"
   ]
  },
  {
   "cell_type": "code",
   "execution_count": null,
   "metadata": {
    "collapsed": true
   },
   "outputs": [],
   "source": []
  },
  {
   "cell_type": "code",
   "execution_count": 72,
   "metadata": {
    "collapsed": true
   },
   "outputs": [],
   "source": [
    "from rouge import Rouge\n",
    "\n",
    "def get_average_rouge_scores():\n",
    "    rouge_logistic_scores = []\n",
    "    rouge_label_scores = []\n",
    "    \n",
    "#     print(\"Length of predictions is... \", len(predictions))\n",
    "    for i in range(10):\n",
    "        reference = ' '.join(flatten(abstract_sentences[i]))\n",
    "        \n",
    "        if not reference:\n",
    "            continue\n",
    "            \n",
    "        start, end = document_indices(i)\n",
    "        \n",
    "        if start < 100:\n",
    "            continue\n",
    "        \n",
    "#         print(\"Start and end are...: \", start, end)\n",
    "\n",
    "        candidate_logistic_sentences = []\n",
    "        candidate_label_sentences = []\n",
    "        for index, sentence in enumerate(full_text_sentences[i]):\n",
    "            if predictions[start - 100 + index - 1]  == 1:\n",
    "                candidate_logistic_sentences.extend(sentence)\n",
    "            \n",
    "            if labels[i][1][index] == 1:\n",
    "                candidate_label_sentences.extend(sentence)\n",
    "            \n",
    "        candidate_logistic = ' '.join(candidate_logistic_sentences)\n",
    "        candidate_labels = ' '.join(candidate_label_sentences)\n",
    "            \n",
    "\n",
    "        \n",
    "#         print(\"Reference is: \", reference)\n",
    "#         print(\"Candidate logistic is: \", candidate_logistic)\n",
    "#         print(\"Candidate labels are: \", candidate_labels)\n",
    "#         print()\n",
    "#         print()\n",
    "        rouge = Rouge()\n",
    "        scores_logistic = rouge.get_scores(candidate_logistic, reference)[0]['rouge-1']['f'] \n",
    "        scores_labels = rouge.get_scores(candidate_labels, reference)[0]['rouge-1']['f']\n",
    "#         print(\"Scores logistic is... \", scores_logistic)\n",
    "#         print(\"Scores labels is... \", scores_labels)\n",
    "        rouge_logistic_scores.append(scores_logistic)\n",
    "        rouge_label_scores.append(scores_labels)\n",
    "\n",
    "    return average(rouge_logistic_scores), average(rouge_label_scores)"
   ]
  },
  {
   "cell_type": "code",
   "execution_count": 73,
   "metadata": {
    "collapsed": false
   },
   "outputs": [
    {
     "name": "stderr",
     "output_type": "stream",
     "text": [
      "/anaconda/lib/python3.6/site-packages/nltk/translate/bleu_score.py:490: UserWarning: \n",
      "Corpus/Sentence contains 0 counts of 2-gram overlaps.\n",
      "BLEU scores might be undesirable; use SmoothingFunction().\n",
      "  warnings.warn(_msg)\n",
      "/anaconda/lib/python3.6/site-packages/nltk/translate/bleu_score.py:490: UserWarning: \n",
      "Corpus/Sentence contains 0 counts of 3-gram overlaps.\n",
      "BLEU scores might be undesirable; use SmoothingFunction().\n",
      "  warnings.warn(_msg)\n"
     ]
    },
    {
     "data": {
      "text/plain": [
       "(0.18649757967334388, 0.23304813143455222)"
      ]
     },
     "execution_count": 73,
     "metadata": {},
     "output_type": "execute_result"
    }
   ],
   "source": [
    "get_average_bleu_scores()"
   ]
  },
  {
   "cell_type": "code",
   "execution_count": 74,
   "metadata": {
    "collapsed": false
   },
   "outputs": [
    {
     "data": {
      "text/plain": [
       "(0.08757395098465304, 0.08910959184183952)"
      ]
     },
     "execution_count": 74,
     "metadata": {},
     "output_type": "execute_result"
    }
   ],
   "source": [
    "get_average_rouge_scores()"
   ]
  },
  {
   "cell_type": "code",
   "execution_count": 71,
   "metadata": {
    "collapsed": true
   },
   "outputs": [],
   "source": [
    "from rouge import Rouge \n",
    "\n",
    "hypothesis = \"the #### transcript is a written version of each day 's cnn student news program use this transcript to he lp students with reading comprehension and vocabulary use the weekly newsquiz to test your knowledge of storie s you saw on cnn student news\"\n",
    "\n",
    "reference = \"this page includes the show transcript use the transcript to help students with reading comprehension and vocabulary at the bottom of the page , comment for a chance to be mentioned on cnn student news . you must be a teac her or a student age # # or older to request a mention on the cnn student news roll call . the weekly newsquiz tests students ' knowledge of even ts in the news\"\n",
    "\n",
    "rouge = Rouge()\n",
    "scores = rouge.get_scores(hypothesis, reference)"
   ]
  },
  {
   "cell_type": "code",
   "execution_count": null,
   "metadata": {
    "collapsed": true
   },
   "outputs": [],
   "source": [
    "scores"
   ]
  },
  {
   "cell_type": "markdown",
   "metadata": {
    "collapsed": true
   },
   "source": [
    "# ROC"
   ]
  },
  {
   "cell_type": "code",
   "execution_count": 76,
   "metadata": {
    "collapsed": false
   },
   "outputs": [
    {
     "data": {
      "image/png": "[encoded data removed]",
      "text/plain": [
       "<matplotlib.figure.Figure at 0x1176602b0>"
      ]
     },
     "metadata": {},
     "output_type": "display_data"
    }
   ],
   "source": [
    "from sklearn import metrics\n",
    "\n",
    "probs = model.predict_proba(X_test)\n",
    "preds = probs[:,1]\n",
    "fpr, tpr, threshold = metrics.roc_curve(y_test, preds)\n",
    "roc_auc = metrics.auc(fpr, tpr)\n",
    "\n",
    "import matplotlib.pyplot as plt\n",
    "plt.title('Receiver Operating Characteristic')\n",
    "plt.plot(fpr, tpr, 'b', label = 'AUC = %0.2f' % roc_auc)\n",
    "plt.legend(loc = 'lower right')\n",
    "plt.plot([0, 1], [0, 1],'r--')\n",
    "plt.xlim([0, 1])\n",
    "plt.ylim([0, 1])\n",
    "plt.ylabel('True Positive Rate')\n",
    "plt.xlabel('False Positive Rate')\n",
    "plt.show()"
   ]
  },
  {
   "cell_type": "code",
   "execution_count": null,
   "metadata": {
    "collapsed": true
   },
   "outputs": [],
   "source": []
  }
 ],
 "metadata": {
  "kernelspec": {
   "display_name": "Python 3",
   "language": "python",
   "name": "python3"
  },
  "language_info": {
   "codemirror_mode": {
    "name": "ipython",
    "version": 3
   },
   "file_extension": ".py",
   "mimetype": "text/x-python",
   "name": "python",
   "nbconvert_exporter": "python",
   "pygments_lexer": "ipython3",
   "version": "3.6.0"
  }
 },
 "nbformat": 4,
 "nbformat_minor": 1
}
